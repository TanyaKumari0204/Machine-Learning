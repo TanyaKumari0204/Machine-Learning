{
  "nbformat": 4,
  "nbformat_minor": 0,
  "metadata": {
    "colab": {
      "provenance": [],
      "authorship_tag": "ABX9TyPm/QyL77SnyOChXFT0Xw08",
      "include_colab_link": true
    },
    "kernelspec": {
      "name": "python3",
      "display_name": "Python 3"
    },
    "language_info": {
      "name": "python"
    }
  },
  "cells": [
    {
      "cell_type": "markdown",
      "metadata": {
        "id": "view-in-github",
        "colab_type": "text"
      },
      "source": [
        "<a href=\"https://colab.research.google.com/github/TanyaKumari0204/Machine-Learning/blob/main/feature_extraction.ipynb\" target=\"_parent\"><img src=\"https://colab.research.google.com/assets/colab-badge.svg\" alt=\"Open In Colab\"/></a>"
      ]
    },
    {
      "cell_type": "markdown",
      "source": [
        "Mapping from textual data to\n",
        "real valued vectors\n",
        "\n"
      ],
      "metadata": {
        "id": "EyXipX7JeLYk"
      }
    },
    {
      "cell_type": "markdown",
      "source": [
        "1.BOW:-Bag Of Words :-list of unique words in text corpus.\n",
        "2.TF-IDF:-Term Frequency-Inverse Document Frequency:-count no. of times each word appears in a document.\n",
        "3.TF:-Term Frequency:-No. of times term t appear in document/no.of terms in document\n",
        "4.IDF:-Inverse Document Frequency:-log(N/n),N is no. of documents and n is no. of documents  a term t has appeard.\n",
        "IDF for rare word is high.\n",
        "Tf-IDF=TFxIDF.\n"
      ],
      "metadata": {
        "id": "NfcqbF9re52Z"
      }
    },
    {
      "cell_type": "code",
      "source": [
        "from sklearn.feature_extraction.text import TfidfVectorizer"
      ],
      "metadata": {
        "id": "0CdCDzBfeV_r"
      },
      "execution_count": null,
      "outputs": []
    },
    {
      "cell_type": "markdown",
      "source": [
        "Tf-idf"
      ],
      "metadata": {
        "id": "QLrUKT51gwWp"
      }
    },
    {
      "cell_type": "code",
      "source": [
        "#convert textual data to feature extraction"
      ],
      "metadata": {
        "id": "EGw8A_EWgrpu"
      },
      "execution_count": null,
      "outputs": []
    },
    {
      "cell_type": "code",
      "source": [
        "vectorizer=TfidfVectorizer()"
      ],
      "metadata": {
        "id": "hKawGrGWg3LN"
      },
      "execution_count": null,
      "outputs": []
    },
    {
      "cell_type": "code",
      "source": [
        "vectorizer.fit(X)\n",
        "X=vectorizer.transform(X)#textual to numerical\n",
        "print(X)\n",
        "\n"
      ],
      "metadata": {
        "id": "pz7L758Ng-b_"
      },
      "execution_count": null,
      "outputs": []
    }
  ]
}