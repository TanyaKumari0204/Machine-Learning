{
  "nbformat": 4,
  "nbformat_minor": 0,
  "metadata": {
    "colab": {
      "provenance": [],
      "authorship_tag": "ABX9TyNFGBXCsJToIL8XvluLBIuZ",
      "include_colab_link": true
    },
    "kernelspec": {
      "name": "python3",
      "display_name": "Python 3"
    },
    "language_info": {
      "name": "python"
    }
  },
  "cells": [
    {
      "cell_type": "markdown",
      "metadata": {
        "id": "view-in-github",
        "colab_type": "text"
      },
      "source": [
        "<a href=\"https://colab.research.google.com/github/TanyaKumari0204/Machine-Learning/blob/main/Building_Lasso_Regression.ipynb\" target=\"_parent\"><img src=\"https://colab.research.google.com/assets/colab-badge.svg\" alt=\"Open In Colab\"/></a>"
      ]
    },
    {
      "cell_type": "markdown",
      "source": [
        "Lasso REgression\n",
        "Y=wx+b\n",
        "y dep,x indepndent\n",
        "w=weigth,b=bias\n"
      ],
      "metadata": {
        "id": "lihgKZkw8VHO"
      }
    },
    {
      "cell_type": "markdown",
      "source": [
        "Gradient descent:-opt. algo fo\n",
        "r min the loss sun in various ml algos.it is used for updating the parameters of learning model.\n",
        "w=w-Ldw\n",
        "b=b-Ldb"
      ],
      "metadata": {
        "id": "klDKeC5X8dgB"
      }
    },
    {
      "cell_type": "markdown",
      "source": [
        "Learning Rate:-tuning parameter in opt. the determine the step size at each iterations while moving towards min loss fun.\n",
        "J(w, b) = (1/m) ∑[i=1 to m] (yᵢ - ŷᵢ)² + λ ∑[j=1 to n] |wⱼ|\n",
        "\n",
        "∂J/∂wⱼ = (-2/m) ∑[i=1 to m] xⱼᵢ (yᵢ - ŷᵢ) + λ · sign(wⱼ)\n",
        "lambda =+1 when w>0 and -1 when w less than 0\n",
        "∂J/∂b = (-2/m) ∑[i=1 to m] (yᵢ - ŷᵢ)\n"
      ],
      "metadata": {
        "id": "RB4inLZq8yvq"
      }
    },
    {
      "cell_type": "code",
      "execution_count": 1,
      "metadata": {
        "id": "8IOQVKcQ8KnH"
      },
      "outputs": [],
      "source": [
        "import numpy as np"
      ]
    },
    {
      "cell_type": "code",
      "source": [
        "#Building Lasso Reg\n",
        "class Lasso_Regression():\n",
        "  #initaiating the hyper parameters\n",
        "  def __int__(self,learning_rate,no_of_iterations,lambda_parameter):\n",
        "    self.learning_rate=learning_rate\n",
        "    self.no_of_iterations=no_of_iterations\n",
        "    self.lambda_parameter=lambda_parameter\n",
        "\n",
        "  #fitting the dataset to Lasso Reg model\n",
        "  def fit(self,X,Y):\n",
        "    self.m,self.n=X.shape\n",
        "    #X=features col sara ,Y =target col\n",
        "    #m=no of rows/datapoints,n=no of features/col\n",
        "    self.w=np.zeros(self.n)\n",
        "    self.b=0\n",
        "    self.X=X\n",
        "    self.Y=Y\n",
        "    #implementing the gradient descent\n",
        "    for i in range(self.no_of_iterations):\n",
        "      self.update_weights()\n",
        "\n",
        "\n",
        "  #updating weights and bias\n",
        "  def update_weights(self):\n",
        "    #linear eq of model\n",
        "    Y_prediction=self.predict(self.X)\n",
        "    #gradients(dw,db)\n",
        "    dw=np.zeros(self.n)#weights no of feature s/col hoga islie self.n use\n",
        "    for i in range(self.n):\n",
        "      if self.w[i]>0:\n",
        "        #[:,i]here is 1,2,3,....ek ek col le rha aur mult kr rha\n",
        "        dw[i]=(-(2*(self.X[:,i]).dot(self.Y-self.Y_prediction))+self.lambda_parameter)/self.m\n",
        "      else:\n",
        "        dw[i]=(-(2*(self.X[:i]).dot(self.Y-self.Y_prediction))-self.lambda_parameter)/self.m\n",
        "\n",
        "      db=-2*np.sum(self.Y-self.Y_prediction)/self.m\n",
        "      #update weight and bias\n",
        "      self.w=self.w-self.learning_rate*dw\n",
        "      self.b=self.b-self.learning_rate*db\n",
        "\n",
        "\n",
        "\n",
        "  #Predict the target variable\n",
        "  def predict(self):\n",
        "    return np.dot(self.X,self.w)+self.b#y=wx+b"
      ],
      "metadata": {
        "id": "SqmMq71G98ZD"
      },
      "execution_count": 2,
      "outputs": []
    }
  ]
}