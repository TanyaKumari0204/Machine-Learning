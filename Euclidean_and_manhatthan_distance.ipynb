{
  "nbformat": 4,
  "nbformat_minor": 0,
  "metadata": {
    "colab": {
      "provenance": [],
      "authorship_tag": "ABX9TyMybVXyjiSi2+HR4II8cRKA",
      "include_colab_link": true
    },
    "kernelspec": {
      "name": "python3",
      "display_name": "Python 3"
    },
    "language_info": {
      "name": "python"
    }
  },
  "cells": [
    {
      "cell_type": "markdown",
      "metadata": {
        "id": "view-in-github",
        "colab_type": "text"
      },
      "source": [
        "<a href=\"https://colab.research.google.com/github/TanyaKumari0204/Machine-Learning/blob/main/Euclidean_and_manhatthan_distance.ipynb\" target=\"_parent\"><img src=\"https://colab.research.google.com/assets/colab-badge.svg\" alt=\"Open In Colab\"/></a>"
      ]
    },
    {
      "cell_type": "code",
      "execution_count": 1,
      "metadata": {
        "id": "9mqPl8LbfWS2"
      },
      "outputs": [],
      "source": [
        "import numpy as np\n"
      ]
    },
    {
      "cell_type": "code",
      "source": [
        "p1=(1,1)\n",
        "p2=(2,2)\n"
      ],
      "metadata": {
        "id": "F0_fx2sdfe4N"
      },
      "execution_count": 2,
      "outputs": []
    },
    {
      "cell_type": "code",
      "source": [
        "#Euclidean Distance\n",
        "dist=(p1[0]-p2[0])**2 + (p1[1]-p2[1])**2\n",
        "euclidean_dist=np.sqrt(dist)\n",
        "print(euclidean_dist)"
      ],
      "metadata": {
        "colab": {
          "base_uri": "https://localhost:8080/"
        },
        "id": "w2mNCcvafnAC",
        "outputId": "f240c100-04d8-4fd5-ffcc-de3ac405f8a2"
      },
      "execution_count": 3,
      "outputs": [
        {
          "output_type": "stream",
          "name": "stdout",
          "text": [
            "1.4142135623730951\n"
          ]
        }
      ]
    },
    {
      "cell_type": "code",
      "source": [
        "p1=(1,1,1)\n",
        "p2=(2,2,2)\n",
        "dist=(p1[0]-p2[0])**2 + (p1[1]-p2[1])**2 + (p1[2]-p2[2])**2\n",
        "euclidean_dist=np.sqrt(dist)\n",
        "print(euclidean_dist)\n"
      ],
      "metadata": {
        "colab": {
          "base_uri": "https://localhost:8080/"
        },
        "id": "MHRpU9QUgMZw",
        "outputId": "b6d32513-e372-45e9-dbe5-4d0b0ffafc33"
      },
      "execution_count": 5,
      "outputs": [
        {
          "output_type": "stream",
          "name": "stdout",
          "text": [
            "1.7320508075688772\n"
          ]
        }
      ]
    },
    {
      "cell_type": "code",
      "source": [
        "p1=(1,1,1,1)\n",
        "p2=(2,2,2,2)\n",
        "dist=0\n",
        "for i in range(len(p1)):\n",
        "  dist=dist + (p1[i]-p2[i])**2\n",
        "euclidean_dist=np.sqrt(dist)\n",
        "print(euclidean_dist)"
      ],
      "metadata": {
        "colab": {
          "base_uri": "https://localhost:8080/"
        },
        "id": "4evrNPvsgnja",
        "outputId": "8ebdbbf6-fcfc-4477-d4e4-0e418141c34f"
      },
      "execution_count": 10,
      "outputs": [
        {
          "output_type": "stream",
          "name": "stdout",
          "text": [
            "2.0\n"
          ]
        }
      ]
    },
    {
      "cell_type": "code",
      "source": [
        "def get_euclidean_dist(p1,p2):\n",
        "  dist=0\n",
        "  for i in range(len(p1)):\n",
        "     dist=dist + (p1[i]-p2[i])**2\n",
        "  euclidean_dist=np.sqrt(dist)\n",
        "  print(euclidean_dist)"
      ],
      "metadata": {
        "id": "0LfsI4MWhRIg"
      },
      "execution_count": 11,
      "outputs": []
    },
    {
      "cell_type": "code",
      "source": [
        "get_euclidean_dist((1,1,1),(2,2,2))"
      ],
      "metadata": {
        "colab": {
          "base_uri": "https://localhost:8080/"
        },
        "id": "RovGHXzChhk3",
        "outputId": "b471b80d-9ccf-474e-cc13-6204e44fd769"
      },
      "execution_count": 12,
      "outputs": [
        {
          "output_type": "stream",
          "name": "stdout",
          "text": [
            "1.7320508075688772\n"
          ]
        }
      ]
    },
    {
      "cell_type": "code",
      "source": [
        "#Manhattan Diance\n",
        "def get_manhattan_dist(p1,p2):\n",
        "  dist=0\n",
        "  for i in range(len(p1)):\n",
        "     dist=dist +abs(p1[i]-p2[i])#abs remove - work as modulus\n",
        "  manhattan_dist=dist\n",
        "  print(manhattan_dist)"
      ],
      "metadata": {
        "id": "IpO_mMCMgGsh"
      },
      "execution_count": 15,
      "outputs": []
    },
    {
      "cell_type": "code",
      "source": [
        "get_manhattan_dist((1,1,1),(2,2,2))"
      ],
      "metadata": {
        "colab": {
          "base_uri": "https://localhost:8080/"
        },
        "id": "Bc-34BAmhyxo",
        "outputId": "bf2525ac-c1a2-40ca-9614-c577fa848315"
      },
      "execution_count": 16,
      "outputs": [
        {
          "output_type": "stream",
          "name": "stdout",
          "text": [
            "3\n"
          ]
        }
      ]
    },
    {
      "cell_type": "markdown",
      "source": [
        "Distance between two data points"
      ],
      "metadata": {
        "id": "oxKWnQ32iSko"
      }
    },
    {
      "cell_type": "code",
      "source": [
        "print(get_euclidean_dist((34.4,56.7,78.9),(23.5,78.9,56.8)))\n",
        "print(get_manhattan_dist((34.4,56.7,78.9),(23.5,78.9,56.8)))\n"
      ],
      "metadata": {
        "colab": {
          "base_uri": "https://localhost:8080/"
        },
        "id": "RnBVj9WaiEkF",
        "outputId": "eb443431-7f49-45d4-c6e5-c43380950b60"
      },
      "execution_count": 17,
      "outputs": [
        {
          "output_type": "stream",
          "name": "stdout",
          "text": [
            "33.16715242525352\n",
            "None\n",
            "55.20000000000001\n",
            "None\n"
          ]
        }
      ]
    },
    {
      "cell_type": "code",
      "source": [],
      "metadata": {
        "id": "TyBIIv30jG58"
      },
      "execution_count": null,
      "outputs": []
    }
  ]
}