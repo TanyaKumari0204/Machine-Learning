{
  "nbformat": 4,
  "nbformat_minor": 0,
  "metadata": {
    "colab": {
      "provenance": [],
      "authorship_tag": "ABX9TyNwihafWsdTU8r5QJwTz20r",
      "include_colab_link": true
    },
    "kernelspec": {
      "name": "python3",
      "display_name": "Python 3"
    },
    "language_info": {
      "name": "python"
    }
  },
  "cells": [
    {
      "cell_type": "markdown",
      "metadata": {
        "id": "view-in-github",
        "colab_type": "text"
      },
      "source": [
        "<a href=\"https://colab.research.google.com/github/TanyaKumari0204/Machine-Learning/blob/main/Matrix1.ipynb\" target=\"_parent\"><img src=\"https://colab.research.google.com/assets/colab-badge.svg\" alt=\"Open In Colab\"/></a>"
      ]
    },
    {
      "cell_type": "code",
      "execution_count": null,
      "metadata": {
        "id": "19SWGh8wT1Gy"
      },
      "outputs": [],
      "source": [
        "import numpy as np\n"
      ]
    },
    {
      "cell_type": "markdown",
      "source": [
        "Dot product"
      ],
      "metadata": {
        "id": "JkvClem5Um8u"
      }
    },
    {
      "cell_type": "code",
      "source": [
        "a=np.asarray([2,3])\n",
        "b=np.asarray([3,4])\n",
        "a_dot_b=np.dot(a,b)\n",
        "print(a_dot_b)\n"
      ],
      "metadata": {
        "colab": {
          "base_uri": "https://localhost:8080/"
        },
        "id": "yAxC4YXbUma5",
        "outputId": "b8b5da80-59e8-4b42-c34f-7615dd0235f9"
      },
      "execution_count": null,
      "outputs": [
        {
          "output_type": "stream",
          "name": "stdout",
          "text": [
            "18\n"
          ]
        }
      ]
    },
    {
      "cell_type": "code",
      "source": [
        "c=np.asarray([40,20,35])\n",
        "d=np.asarray([53,24,68])\n",
        "c_dot_d=np.dot(c,d)\n",
        "print(c_dot_d)"
      ],
      "metadata": {
        "colab": {
          "base_uri": "https://localhost:8080/"
        },
        "id": "0kSar2uMU2xF",
        "outputId": "56d176b6-8778-46a9-d73c-f674990fcb80"
      },
      "execution_count": null,
      "outputs": [
        {
          "output_type": "stream",
          "name": "stdout",
          "text": [
            "4980\n"
          ]
        }
      ]
    },
    {
      "cell_type": "markdown",
      "source": [
        "Cross Product of two vectors:-"
      ],
      "metadata": {
        "id": "3t7klqK1VK8I"
      }
    },
    {
      "cell_type": "code",
      "source": [
        "a=np.asarray([2,3])\n",
        "b=np.asarray([3,4])\n",
        "a_cross_b=np.cross(a,b)\n",
        "print(a_cross_b)\n"
      ],
      "metadata": {
        "colab": {
          "base_uri": "https://localhost:8080/"
        },
        "id": "llyQLaPfVGdu",
        "outputId": "18daa36d-7cdb-4569-f275-e99db7c544f7"
      },
      "execution_count": null,
      "outputs": [
        {
          "output_type": "stream",
          "name": "stdout",
          "text": [
            "-1\n"
          ]
        },
        {
          "output_type": "stream",
          "name": "stderr",
          "text": [
            "/tmp/ipython-input-4-2658644620.py:3: DeprecationWarning: Arrays of 2-dimensional vectors are deprecated. Use arrays of 3-dimensional vectors instead. (deprecated in NumPy 2.0)\n",
            "  a_cross_b=np.cross(a,b)\n"
          ]
        }
      ]
    },
    {
      "cell_type": "code",
      "source": [
        "c=np.asarray([40,20,35])\n",
        "d=np.asarray([53,24,68])\n",
        "c_cross_d=np.cross(c,d)\n",
        "print(c_cross_d)\n"
      ],
      "metadata": {
        "colab": {
          "base_uri": "https://localhost:8080/"
        },
        "id": "4meVP8_eVYNL",
        "outputId": "4f4e6671-1e31-452b-e461-ce2aa773af09"
      },
      "execution_count": null,
      "outputs": [
        {
          "output_type": "stream",
          "name": "stdout",
          "text": [
            "[ 520 -865 -100]\n"
          ]
        }
      ]
    },
    {
      "cell_type": "markdown",
      "source": [
        "Projection\n",
        ":-"
      ],
      "metadata": {
        "id": "4oDYGGPwVvaD"
      }
    },
    {
      "cell_type": "code",
      "source": [
        "a=np.array([2,5])\n",
        "v=np.array([8,-6])\n",
        "magnitude_of_v=np.sqrt(sum(v**2))#under rooot v1 sq and v2 sq\n",
        "proj_of_a_on_v=(np.dot(a,v)/magnitude_of_v**2)*v\n",
        "print(proj_of_a_on_v)\n"
      ],
      "metadata": {
        "colab": {
          "base_uri": "https://localhost:8080/"
        },
        "id": "KS_ogKc_Vm3M",
        "outputId": "f0e17ac5-ec55-4528-c465-02b96776ddc9"
      },
      "execution_count": null,
      "outputs": [
        {
          "output_type": "stream",
          "name": "stdout",
          "text": [
            "[-1.12  0.84]\n"
          ]
        }
      ]
    },
    {
      "cell_type": "code",
      "source": [
        "a=np.array([23,45,67])\n",
        "v=np.array([8,-6,56])\n",
        "magnitude_of_v=np.sqrt(sum(v**2))#under rooot v1 sq and v2 sq\n",
        "proj_of_a_on_v=(np.dot(a,v)/magnitude_of_v**2)*v\n",
        "print(proj_of_a_on_v)\n"
      ],
      "metadata": {
        "colab": {
          "base_uri": "https://localhost:8080/"
        },
        "id": "ZnZLu3DMWoxG",
        "outputId": "e2cc69b8-7165-448b-a828-78fdc7484c19"
      },
      "execution_count": null,
      "outputs": [
        {
          "output_type": "stream",
          "name": "stdout",
          "text": [
            "[ 9.06304079 -6.79728059 63.44128554]\n"
          ]
        }
      ]
    },
    {
      "cell_type": "markdown",
      "source": [
        "Creating matrix using numpy"
      ],
      "metadata": {
        "id": "p3sEm0nEYrZB"
      }
    },
    {
      "cell_type": "code",
      "source": [
        "matrix_1=np.array([[2,3],[3,4]])\n",
        "print(matrix_1)"
      ],
      "metadata": {
        "colab": {
          "base_uri": "https://localhost:8080/"
        },
        "id": "3riYT20lW-IR",
        "outputId": "2cdea209-7477-464e-f6f2-9c2b7d7c8447"
      },
      "execution_count": null,
      "outputs": [
        {
          "output_type": "stream",
          "name": "stdout",
          "text": [
            "[[2 3]\n",
            " [3 4]]\n"
          ]
        }
      ]
    },
    {
      "cell_type": "code",
      "source": [
        "matrix_1.shape"
      ],
      "metadata": {
        "colab": {
          "base_uri": "https://localhost:8080/"
        },
        "id": "3aXGwTl0Y5Gf",
        "outputId": "c2b7c7ee-6b1e-4607-c038-9253d914074f"
      },
      "execution_count": null,
      "outputs": [
        {
          "output_type": "execute_result",
          "data": {
            "text/plain": [
              "(2, 2)"
            ]
          },
          "metadata": {},
          "execution_count": 13
        }
      ]
    },
    {
      "cell_type": "code",
      "source": [
        "matrix_2=np.array([[2,3,4],[5,6,7],[7,8,9]])\n",
        "print(matrix_2)\n",
        "matrix_2.shape"
      ],
      "metadata": {
        "colab": {
          "base_uri": "https://localhost:8080/"
        },
        "id": "l9ZmmfdNZANu",
        "outputId": "75b5453d-a058-4b9b-9063-8040f9e0be32"
      },
      "execution_count": null,
      "outputs": [
        {
          "output_type": "stream",
          "name": "stdout",
          "text": [
            "[[2 3 4]\n",
            " [5 6 7]\n",
            " [7 8 9]]\n"
          ]
        },
        {
          "output_type": "execute_result",
          "data": {
            "text/plain": [
              "(3, 3)"
            ]
          },
          "metadata": {},
          "execution_count": 14
        }
      ]
    },
    {
      "cell_type": "markdown",
      "source": [
        "Create matrix with random values:-"
      ],
      "metadata": {
        "id": "eS_8FNq_ZNHi"
      }
    },
    {
      "cell_type": "code",
      "source": [
        "random_matrix=np.random.rand(3,3)\n",
        "print(random_matrix)"
      ],
      "metadata": {
        "colab": {
          "base_uri": "https://localhost:8080/"
        },
        "id": "MgO8572iZK10",
        "outputId": "e7a7e1ea-a030-4252-b328-5e2eb895e72b"
      },
      "execution_count": null,
      "outputs": [
        {
          "output_type": "stream",
          "name": "stdout",
          "text": [
            "[[0.61650282 0.80817887 0.52094442]\n",
            " [0.89889609 0.78441506 0.13515849]\n",
            " [0.769417   0.64680327 0.9164015 ]]\n"
          ]
        }
      ]
    },
    {
      "cell_type": "code",
      "source": [
        "random_matrix_int=np.random.randint(1,10,size=(3,3))\n",
        "print(random_matrix_int)"
      ],
      "metadata": {
        "colab": {
          "base_uri": "https://localhost:8080/"
        },
        "id": "Dxd2LQ33Za5w",
        "outputId": "67be6386-1026-46e7-a948-1d07ef664a21"
      },
      "execution_count": null,
      "outputs": [
        {
          "output_type": "stream",
          "name": "stdout",
          "text": [
            "[[9 1 7]\n",
            " [5 5 9]\n",
            " [3 3 5]]\n"
          ]
        }
      ]
    },
    {
      "cell_type": "code",
      "source": [
        "#Value all set to 1\n",
        "matrix_3=np.ones((3,3))\n",
        "print(matrix_3)"
      ],
      "metadata": {
        "colab": {
          "base_uri": "https://localhost:8080/"
        },
        "id": "9sAadvJWZmBJ",
        "outputId": "aff59233-ff95-430e-cb61-b3a2753618aa"
      },
      "execution_count": null,
      "outputs": [
        {
          "output_type": "stream",
          "name": "stdout",
          "text": [
            "[[1. 1. 1.]\n",
            " [1. 1. 1.]\n",
            " [1. 1. 1.]]\n"
          ]
        }
      ]
    },
    {
      "cell_type": "code",
      "source": [
        "matrix=np.ones((3,3),dtype=int)\n",
        "print(matrix)"
      ],
      "metadata": {
        "colab": {
          "base_uri": "https://localhost:8080/"
        },
        "id": "eDuTs93fZrbn",
        "outputId": "3bed8b85-2e20-4549-d149-1bb2a4420398"
      },
      "execution_count": null,
      "outputs": [
        {
          "output_type": "stream",
          "name": "stdout",
          "text": [
            "[[1 1 1]\n",
            " [1 1 1]\n",
            " [1 1 1]]\n"
          ]
        }
      ]
    },
    {
      "cell_type": "code",
      "source": [
        "#Null matrix:-\n",
        "null_matrix=np.zeros((3,3))\n",
        "print(null_matrix)"
      ],
      "metadata": {
        "colab": {
          "base_uri": "https://localhost:8080/"
        },
        "id": "ncTnPCxnZ-On",
        "outputId": "5816ce7d-934b-467b-bad7-846a2b817619"
      },
      "execution_count": null,
      "outputs": [
        {
          "output_type": "stream",
          "name": "stdout",
          "text": [
            "[[0. 0. 0.]\n",
            " [0. 0. 0.]\n",
            " [0. 0. 0.]]\n"
          ]
        }
      ]
    },
    {
      "cell_type": "code",
      "source": [
        "null=np.zeros((3,3),dtype=int)\n",
        "print(null)"
      ],
      "metadata": {
        "colab": {
          "base_uri": "https://localhost:8080/"
        },
        "id": "daVIgHEAaHhL",
        "outputId": "e1710046-c0cf-4e60-87c1-ca5b912cead3"
      },
      "execution_count": null,
      "outputs": [
        {
          "output_type": "stream",
          "name": "stdout",
          "text": [
            "[[0 0 0]\n",
            " [0 0 0]\n",
            " [0 0 0]]\n"
          ]
        }
      ]
    },
    {
      "cell_type": "code",
      "source": [
        "#Identity Matrix:-\n",
        "identity_matrix=np.eye(3,3)\n",
        "print(identity_matrix)"
      ],
      "metadata": {
        "colab": {
          "base_uri": "https://localhost:8080/"
        },
        "id": "UprIvjL0aNiM",
        "outputId": "8c749d03-24fa-4e1c-eb65-24af09664c30"
      },
      "execution_count": null,
      "outputs": [
        {
          "output_type": "stream",
          "name": "stdout",
          "text": [
            "[[1. 0. 0.]\n",
            " [0. 1. 0.]\n",
            " [0. 0. 1.]]\n"
          ]
        }
      ]
    },
    {
      "cell_type": "markdown",
      "source": [
        "Transpose"
      ],
      "metadata": {
        "id": "xft-43YMaaek"
      }
    },
    {
      "cell_type": "code",
      "source": [
        "mat=np.random.randint(1,10,size=(3,3))\n",
        "transpose=mat.transpose()\n",
        "print(transpose)\n",
        "print(mat)"
      ],
      "metadata": {
        "colab": {
          "base_uri": "https://localhost:8080/"
        },
        "id": "zGCFKNuraWlI",
        "outputId": "a94ab85c-191a-45ab-df02-243afbba260f"
      },
      "execution_count": null,
      "outputs": [
        {
          "output_type": "stream",
          "name": "stdout",
          "text": [
            "[[9 6 1]\n",
            " [4 6 8]\n",
            " [1 7 8]]\n",
            "[[9 4 1]\n",
            " [6 6 7]\n",
            " [1 8 8]]\n"
          ]
        }
      ]
    },
    {
      "cell_type": "markdown",
      "source": [
        "Matrix addition:-\n"
      ],
      "metadata": {
        "id": "aQMlLhWCbNi5"
      }
    },
    {
      "cell_type": "code",
      "source": [
        "A=np.array([[2,3],[4,5]])\n",
        "B=np.array([[4,5,],[5,6]])\n",
        "print(A)\n",
        "print(B)\n",
        "A.shape\n",
        "B.shape\n",
        "sum=A+B\n",
        "print(sum)\n",
        "\n"
      ],
      "metadata": {
        "colab": {
          "base_uri": "https://localhost:8080/"
        },
        "id": "aLVrWExFakqE",
        "outputId": "aec1676d-93f9-475e-d6a5-30cdc522dc71"
      },
      "execution_count": null,
      "outputs": [
        {
          "output_type": "stream",
          "name": "stdout",
          "text": [
            "[[2 3]\n",
            " [4 5]]\n",
            "[[4 5]\n",
            " [5 6]]\n",
            "[[ 6  8]\n",
            " [ 9 11]]\n"
          ]
        }
      ]
    },
    {
      "cell_type": "code",
      "source": [
        "X=np.random.randint(1,10,size=(3,3))\n",
        "Y=np.random.randint(1,10,size=(3,3))\n",
        "print(X)\n",
        "print(Y)\n",
        "add=np.add(X,Y)\n",
        "print(add)"
      ],
      "metadata": {
        "colab": {
          "base_uri": "https://localhost:8080/"
        },
        "id": "bQfM6Yv_cAgT",
        "outputId": "24a253cb-065e-4944-c997-218c516f719f"
      },
      "execution_count": null,
      "outputs": [
        {
          "output_type": "stream",
          "name": "stdout",
          "text": [
            "[[2 6 8]\n",
            " [7 6 5]\n",
            " [6 3 6]]\n",
            "[[9 9 3]\n",
            " [5 2 7]\n",
            " [3 2 1]]\n",
            "[[11 15 11]\n",
            " [12  8 12]\n",
            " [ 9  5  7]]\n"
          ]
        }
      ]
    },
    {
      "cell_type": "markdown",
      "source": [
        "Matrix Subtraction:-"
      ],
      "metadata": {
        "id": "8fuD3aVUceEs"
      }
    },
    {
      "cell_type": "code",
      "source": [
        "A=np.array([[2,3],[4,5]])\n",
        "B=np.array([[4,5,],[5,6]])\n",
        "print(A)\n",
        "print(B)\n",
        "A.shape\n",
        "B.shape\n",
        "diff=A-B\n",
        "print(diff)"
      ],
      "metadata": {
        "colab": {
          "base_uri": "https://localhost:8080/"
        },
        "id": "HoWbNUpfcUQJ",
        "outputId": "dd07e7e3-9952-4c8f-c4a5-f70ce7835011"
      },
      "execution_count": null,
      "outputs": [
        {
          "output_type": "stream",
          "name": "stdout",
          "text": [
            "[[2 3]\n",
            " [4 5]]\n",
            "[[4 5]\n",
            " [5 6]]\n",
            "[[-2 -2]\n",
            " [-1 -1]]\n"
          ]
        }
      ]
    },
    {
      "cell_type": "code",
      "source": [
        "X=np.random.randint(1,10,size=(3,3))\n",
        "Y=np.random.randint(1,10,size=(3,3))\n",
        "print(X)\n",
        "print(Y)\n",
        "sub=np.subtract(X,Y)\n",
        "print(sub)"
      ],
      "metadata": {
        "colab": {
          "base_uri": "https://localhost:8080/"
        },
        "id": "3vsUz4GrcloW",
        "outputId": "55822b00-ea07-46bc-824e-8a827b49cde7"
      },
      "execution_count": null,
      "outputs": [
        {
          "output_type": "stream",
          "name": "stdout",
          "text": [
            "[[1 5 5]\n",
            " [1 3 7]\n",
            " [8 1 8]]\n",
            "[[2 6 6]\n",
            " [2 8 3]\n",
            " [2 7 8]]\n",
            "[[-1 -1 -1]\n",
            " [-1 -5  4]\n",
            " [ 6 -6  0]]\n"
          ]
        }
      ]
    },
    {
      "cell_type": "markdown",
      "source": [
        "Multiplying Matrix:-"
      ],
      "metadata": {
        "id": "d0g_-DoFcz-k"
      }
    },
    {
      "cell_type": "code",
      "source": [
        "x=5\n",
        "A=np.random.randint(1,10,size=(3,3))\n",
        "print(A)\n",
        "mul=np.multiply(x,A)\n",
        "print(mul)"
      ],
      "metadata": {
        "colab": {
          "base_uri": "https://localhost:8080/"
        },
        "id": "dZ5YStuIcxys",
        "outputId": "d5186332-2161-4e7b-f2fe-b78f7a68d1d4"
      },
      "execution_count": null,
      "outputs": [
        {
          "output_type": "stream",
          "name": "stdout",
          "text": [
            "[[6 3 9]\n",
            " [9 9 7]\n",
            " [5 5 9]]\n",
            "[[30 15 45]\n",
            " [45 45 35]\n",
            " [25 25 45]]\n"
          ]
        }
      ]
    },
    {
      "cell_type": "code",
      "source": [
        "A=np.random.randint(1,10,size=(3,4))#col of 1st should be same to row of 2nd\n",
        "B=np.random.randint(1,10,size=(4,3))\n",
        "product=np.dot(A,B)\n",
        "product.shape"
      ],
      "metadata": {
        "colab": {
          "base_uri": "https://localhost:8080/"
        },
        "id": "j1rpj8ZMdHvr",
        "outputId": "60a5ca8e-f557-4551-8fac-d9574f11c5a1"
      },
      "execution_count": null,
      "outputs": [
        {
          "output_type": "execute_result",
          "data": {
            "text/plain": [
              "(3, 3)"
            ]
          },
          "metadata": {},
          "execution_count": 35
        }
      ]
    },
    {
      "cell_type": "code",
      "source": [
        "#Element wise mul\n",
        "A=np.random.randint(1,10,size=(3,3))\n",
        "B=np.random.randint(1,10,size=(3,3))\n",
        "print(A)\n",
        "print(B)\n",
        "product=np.multiply(A,B)\n",
        "print(product)"
      ],
      "metadata": {
        "colab": {
          "base_uri": "https://localhost:8080/"
        },
        "id": "Z4vkY8iBddrm",
        "outputId": "18f1b8f3-7bbf-4669-e75b-2ea5da1e5d14"
      },
      "execution_count": null,
      "outputs": [
        {
          "output_type": "stream",
          "name": "stdout",
          "text": [
            "[[4 4 4]\n",
            " [5 6 5]\n",
            " [3 4 6]]\n",
            "[[7 3 2]\n",
            " [3 9 9]\n",
            " [5 5 5]]\n",
            "[[28 12  8]\n",
            " [15 54 45]\n",
            " [15 20 30]]\n"
          ]
        }
      ]
    },
    {
      "cell_type": "code",
      "source": [],
      "metadata": {
        "id": "9lNx7r8Od8kq"
      },
      "execution_count": null,
      "outputs": []
    }
  ]
}